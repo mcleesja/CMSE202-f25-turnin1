{
 "cells": [
  {
   "cell_type": "markdown",
   "metadata": {},
   "source": [
    "# Homework Assignment 2 \n",
    "\n",
    "## Risk Graph\n",
    "\n",
    "### (Notebook 2 of 2)\n",
    "\n"
   ]
  },
  {
   "cell_type": "markdown",
   "metadata": {},
   "source": [
    "### <p style=\"text-align: right;\"> &#9989; Jacob McLees.</p>\n",
    "### <p style=\"text-align: right;\"> &#9989; mcleesja</p>"
   ]
  },
  {
   "cell_type": "markdown",
   "metadata": {},
   "source": [
    "## Assignment Overview\n",
    "\n",
    "In this assignment, we'll explore graphs using the board game Risk as our practical example. Risk is a strategy game played on a world map where territories are connected to their neighbors. This makes it a perfect candidate for graph representation and analysis.\n",
    "\n",
    "### Learning Objectives\n",
    "\n",
    "- Implement a graph representation of a real-world game board\n",
    "- practice using networkx\n",
    "- do some research\n",
    "- visualize graph data using NetworkX\n",
    "\n",
    "The assignment is split into two notebooks:\n",
    "- Notebook 1 of 2 is worth **14 + 33 + 3 = 51 points** \n",
    "- Notebook 2 of 2 is worth **1+ 42 + 1 = 44 points** \n",
    "for a total of **95 points**. Point values for each part are included in the section headers and question prompts.\n",
    "\n",
    "**This assignment is due at 11:59 pm on Friday, March 21st.** It should be uploaded into the \"Homework Assignments\" submission folder for Homework #2 on D2L.  Submission instructions can be found at the end of the notebook. **You must also fill out a survey regarding this assignment.** The link to this survey can also be found at the end of the notebook.\n",
    "\n",
    "---\n",
    "## &#128721; STOP\n",
    "**Pause to add this file and commit your changes to your Git repository! (1 points)**\n",
    "\n",
    "---"
   ]
  },
  {
   "cell_type": "code",
   "execution_count": null,
   "metadata": {},
   "outputs": [],
   "source": [
    "import networkx as nx\n",
    "import matplotlib.pyplot as plt\n",
    "import matplotlib as mpl\n",
    "import seaborn as sns\n",
    "import pandas as pd\n",
    "import numpy as np"
   ]
  },
  {
   "cell_type": "markdown",
   "metadata": {},
   "source": [
    "---\n",
    "<a id=\"part3\"></a>\n",
    "[Back to ToC](#toc)\n",
    "\n",
    "## Part 3: Creating the Risk Game Graph (42 points)\n",
    "\n",
    "\n",
    "![image](https://cf.geekdo-images.com/JM6hEipDwIByZKEIK9Dgeg__imagepage/img/OEl2gaJbUxdvIv6tNPzDsQyLUtQ=/fit-in/900x600/filters:no_upscale():strip_icc()/pic365731.jpg)\n",
    "\n",
    "\n",
    "&#9989; **Question 3.1 (5 points)**: Create a dictionary that defines the territories in Risk, organized by continents. Each territory should include its neighboring territories. Use the image above for completing the code below"
   ]
  },
  {
   "cell_type": "code",
   "execution_count": null,
   "metadata": {},
   "outputs": [],
   "source": [
    "# Define the Risk board territories and their connections\n",
    "risk_territories = {\n",
    "    'North America': {\n",
    "        'Alaska': ['Northwest Territory', 'Alberta', 'Kamchatka'],\n",
    "        'Northwest Territory': ['Alaska', 'Alberta', 'Greenland'],\n",
    "        'Greenland': ['Northwest Territory', 'Ontario', 'Quebec', 'Iceland'],\n",
    "        'Alberta': ['Alaska', 'Northwest Territory', 'Ontario', 'Western United States'],\n",
    "        'Ontario': ['Alberta', 'Northwest Territory', 'Greenland', 'Quebec', 'Western United States', 'Eastern United States'],\n",
    "        'Quebec': ['Ontario', 'Greenland', 'Eastern United States'],\n",
    "        'Western United States': ['Alberta', 'Ontario', 'Eastern United States', 'Central America'],\n",
    "        'Eastern United States': ['Western United States', 'Ontario', 'Quebec', 'Central America'],\n",
    "        'Central America': ['Western United States', 'Eastern United States', 'Venezuela']\n",
    "    },\n",
    "    # Complete the remaining continents\n",
    "    'South America': {'Venezuela': ['Central America', 'Brazil', 'Peru'],\n",
    "        'Brazil': ['Venezuela', 'Peru', 'Argentina', 'North Africa'],\n",
    "        'Peru': ['Venezuela', 'Brazil', 'Argentina'],\n",
    "        'Argentina': ['Peru', 'Brazil']\n",
    "        # Add territories and their connections\n",
    "    },\n",
    "    'Europe': {'Iceland': ['Greenland', 'Great Britain', 'Scandinavia'],\n",
    "        'Great Britain': ['Iceland', 'Scandinavia', 'Western Europe', 'Northern Europe'],\n",
    "        'Scandinavia': ['Iceland', 'Great Britain', 'Ukraine', 'Northern Europe'],\n",
    "        'Western Europe': ['Great Britain', 'Northern Europe', 'Southern Europe', 'North Africa'],\n",
    "        'Northern Europe': ['Great Britain', 'Scandinavia', 'Ukraine', 'Southern Europe', 'Western Europe'],\n",
    "        'Southern Europe': ['Western Europe', 'Northern Europe', 'Ukraine', 'Middle East', 'Egypt', 'North Africa'],\n",
    "        'Ukraine': ['Scandinavia', 'Northern Europe', 'Southern Europe', 'Middle East', 'Afghanistan', 'Ural']\n",
    "        # Add territories and their connections\n",
    "    },\n",
    "    'Africa': {'North Africa': ['Brazil', 'Western Europe', 'Southern Europe', 'Egypt', 'East Africa', 'Congo'],\n",
    "        'Egypt': ['Southern Europe', 'Middle East', 'East Africa', 'North Africa'],\n",
    "        'East Africa': ['Egypt', 'Middle East', 'India', 'Congo', 'South Africa', 'Madagascar'],\n",
    "        'Congo': ['North Africa', 'East Africa', 'South Africa'],\n",
    "        'South Africa': ['Congo', 'East Africa', 'Madagascar'],\n",
    "        'Madagascar': ['South Africa', 'East Africa']\n",
    "        # Add territories and their connections\n",
    "    },\n",
    "    'Asia': {'Ural': ['Ukraine', 'Siberia', 'China', 'Afghanistan'],\n",
    "        'Siberia': ['Ural', 'Yakutsk', 'Irkutsk', 'Mongolia', 'China'],\n",
    "        'Yakutsk': ['Siberia', 'Kamchatka', 'Irkutsk'],\n",
    "        'Kamchatka': ['Yakutsk', 'Irkutsk', 'Mongolia', 'Japan', 'Alaska'],\n",
    "        'Irkutsk': ['Siberia', 'Yakutsk', 'Kamchatka', 'Mongolia'],\n",
    "        'Mongolia': ['Irkutsk', 'Siberia', 'China', 'Japan', 'Kamchatka'],\n",
    "        'Japan': ['Kamchatka', 'Mongolia'],\n",
    "        'Afghanistan': ['Ukraine', 'Ural', 'China', 'India', 'Middle East'],\n",
    "        'China': ['Ural', 'Siberia', 'Mongolia', 'India', 'Southeast Asia', 'Afghanistan'],\n",
    "        'India': ['Afghanistan', 'China', 'Southeast Asia', 'Middle East'],\n",
    "        'Middle East': ['Ukraine', 'Southern Europe', 'Egypt', 'East Africa', 'India', 'Afghanistan'],\n",
    "        'Southeast Asia': ['China', 'India', 'Indonesia']\n",
    "        # Add territories and their connections\n",
    "    },\n",
    "    'Australia': { 'Indonesia': ['Southeast Asia', 'New Guinea', 'Western Australia'],\n",
    "        'New Guinea': ['Indonesia', 'Eastern Australia'],\n",
    "        'Western Australia': ['Indonesia', 'Eastern Australia'],\n",
    "        'Eastern Australia': ['Western Australia', 'New Guinea']\n",
    "        # Add territories and their connections\n",
    "    }\n",
    "}\n"
   ]
  },
  {
   "cell_type": "markdown",
   "metadata": {},
   "source": [
    "### Graph Creation\n",
    "\n",
    "&#9989; **Question 3.2 (7 points)**: Create a NetworkX graph object from the territory definitions. The territories are the nodes of the graph. Implement a function that builds the graph and adds appropriate attributes for continents. _Hint:_ Look up the documentation of `add_node`, what are the possible inputs? Don't forget to connect each territory to its neighbors. Make sure to add plenty of comments in your code."
   ]
  },
  {
   "cell_type": "code",
   "execution_count": null,
   "metadata": {},
   "outputs": [],
   "source": [
    "def create_risk_graph(territories):\n",
    "    \"\"\"\n",
    "    Create a NetworkX graph from the Risk territory definitions.\n",
    "    \n",
    "    Parameters:\n",
    "        territories (dict): Dictionary containing territory and connection information\n",
    "        \n",
    "    Returns:\n",
    "        G (nx.Graph): NetworkX graph representing the Risk board\n",
    "    \"\"\"\n",
    "    # Your code here\n",
    "    G = nx.Graph()\n",
    "    for continent, territories_dict in territories.items():\n",
    "        for territory, neighbors in territories_dict.items():\n",
    "            G.add_node(territory, continent=continent)\n",
    "            for neighbor in neighbors:\n",
    "                G.add_edge(territory, neighbor)\n",
    "\n",
    "    return G\n",
    "\n",
    "# Create the graph\n",
    "G = create_risk_graph(risk_territories)"
   ]
  },
  {
   "cell_type": "markdown",
   "metadata": {},
   "source": [
    "### Graph Visualization\n",
    "\n",
    "&#9989; **Question 3.3 (4 points)**: Create a visualization of the Risk board graph. You can use AI to help you with this. The function below should:\n",
    "\n",
    "- make a plot of the risk graph.\n",
    "- color nodes by continent\n",
    "- allow the user to choose a type of layout. _Hint:_ search networkx documentation for the possible layout. Min 5 layouts should be available.\n",
    "- print the name of each territory on the respective node\n",
    "- make a legend for the graph \n",
    "- have very descriptive comments \n",
    "- increase the size of each node from the default value  \n",
    "- increase the font size of label from the default value"
   ]
  },
  {
   "cell_type": "code",
   "execution_count": null,
   "metadata": {},
   "outputs": [],
   "source": [
    "from matplotlib import cm\n",
    "from matplotlib.patches import Patch\n",
    "def visualize_risk_graph(G):\n",
    "    \"\"\"\n",
    "    Create a visualization of the Risk board graph with continents colored differently.\n",
    "    \n",
    "    Parameters:\n",
    "        G (nx.Graph): NetworkX graph of the Risk board\n",
    "    \"\"\"\n",
    "    # Your code here\n",
    "    layouts = {\n",
    "        \"spring\": nx.spring_layout,\n",
    "        \"circular\": nx.circular_layout,\n",
    "        \"kamada_kawai\": nx.kamada_kawai_layout,\n",
    "        \"random\": nx.random_layout,\n",
    "        \"shell\": nx.shell_layout\n",
    "    }\n",
    "    print(\"Choose a layout:\")\n",
    "    print(\"1. spring\")\n",
    "    print(\"2. circular\")\n",
    "    print(\"3. kamada_kawai\")\n",
    "    print(\"4. random\")\n",
    "    print(\"5. shell\")\n",
    "\n",
    "    layout_choice = input(\"Enter a number (1-5): \")\n",
    "    if layout_choice == \"1\":\n",
    "        pos = nx.spring_layout(G)\n",
    "        layout_name = \"spring\"\n",
    "    elif layout_choice == \"2\":\n",
    "        pos = nx.circular_layout(G)\n",
    "        layout_name = \"circular\"\n",
    "    elif layout_choice == \"3\":\n",
    "        pos = nx.kamada_kawai_layout(G)\n",
    "        layout_name = \"kamada_kawai\"\n",
    "    elif layout_choice == \"4\":\n",
    "        pos = nx.random_layout(G)\n",
    "        layout_name = \"random\"\n",
    "    elif layout_choice == \"5\":\n",
    "        pos = nx.shell_layout(G)\n",
    "        layout_name = \"shell\"\n",
    "    else:\n",
    "        print(\"Invalid choice. Using spring layout.\")\n",
    "        pos = nx.spring_layout(G)\n",
    "        layout_name = \"spring\"\n",
    "        \n",
    "    continent_of = nx.get_node_attributes(G, 'continent')\n",
    "    continent_list = []\n",
    "    for node in G.nodes():\n",
    "        continent = continent_of[node]\n",
    "        if continent not in continent_list:\n",
    "            continent_list.append(continent)\n",
    "    color_map = cm.get_cmap('tab10', len(continent_list))\n",
    "    continent_colors = {}\n",
    "    for i in range(len(continent_list)):\n",
    "        continent = continent_list[i]\n",
    "        continent_colors[continent] = color_map(i)\n",
    "    node_colors = []\n",
    "    for node in G.nodes():\n",
    "        continent = continent_of[node]\n",
    "        color = continent_colors[continent]\n",
    "        node_colors.append(color)\n",
    "\n",
    "    nx.draw_networkx_nodes(G, pos, node_color=node_colors, node_size=1000)\n",
    "    nx.draw_networkx_edges(G, pos, width=1.5)\n",
    "    nx.draw_networkx_labels(G, pos, font_size=10, font_weight='bold')\n",
    "    legend_items = []\n",
    "    for continent in continent_list:\n",
    "        color = continent_colors[continent]\n",
    "        patch = Patch(facecolor=color, label=continent)\n",
    "        legend_items.append(patch)\n",
    "    plt.legend(handles=legend_items, title=\"Continents\")\n",
    "    plt.title(\"Risk Board - Layout: \" + layout_name, fontsize=16)\n",
    "    plt.axis('off')  # Hide x/y axis\n",
    "    plt.tight_layout()\n",
    "    plt.show()\n",
    "# Visualize the graph\n",
    "visualize_risk_graph(G)\n",
    "#chatgpt was used to assist me for this code\n",
    "#OpenAI. 2025. ChatGPT. Accessed March 18, 2025. https://openai.com/chatgpt."
   ]
  },
  {
   "cell_type": "markdown",
   "metadata": {},
   "source": [
    "&#9989; **Question 3.4 (26 points)**: Answer the following questions based on the Risk board graph visualization. Each answer should have a minimum of 1-2 sentences and snippet of the code that supports your answer. You must explain what each function in the code snippet does. \n",
    "\n",
    "All answers should be in the same markdown cell. \n",
    "\n",
    "The code snippet should be properly displayed using code markdown. \n",
    "\n",
    "1. Which layout type provides the best visualization of the continent-based clustering in the Risk board graph?\n",
    "    - Explain the rationale behind your choice of layout.\n",
    "2. Do a little research and explain what the Kamada-Kawai layout does? Make sure to cite your sources.\n",
    "3. Which part of the code is used to assign the color of each node based on its continent?\n",
    "4. How did you make the legend? Explain any non-obvious part of the code.\n",
    "5. What colormap did you choose for the continents and how did you import the colormap? \n",
    "6. How did you set the node size and font size in the visualization?\n",
    "7. How did you print the labels for the nodes? "
   ]
  },
  {
   "cell_type": "markdown",
   "metadata": {},
   "source": [
    "✎ 1. I think the spring layout was the best because it spaced everything out the best, although none of them were without their flaws. This made it easy to differentiate between the clusters. 2. The Kamada-Kawai layout places nodes so that the distance between them in the drawing matches how far apart they are in the graph based on the edges. 3. color_map = matplotlib.colormaps.get_cmap('tab10')\n",
    "for i in range(len(continent_list)):\n",
    "    continent = continent_list[i]\n",
    "    continent_colors[continent] = color_map(i / len(continent_list)) \n",
    "This code goes through the length of the continent list, add applies a different color based on the color map. 4. Patch imported from matplotlib creates a colored box used for the legend. Each patch represents a continent with its corresponding color. 5. tab10, although I used chatgpt to generate this part so I didn't really choose it myself. I imported cm from matplotlib. 6. node_size=1000 makes the nodes large enough to clearly see.\n",
    "font_size=10 increases the text size for labels to improve readability. font_weight='bold' makes the text labels more prominent. 7. nx.draw_networkx_labels(G, pos, font_size=10, font_weight='bold'). This function draws the name of each territory on top of the corresponding node using the provided layout positions (pos). Font size and weight make them more readable."
   ]
  },
  {
   "cell_type": "markdown",
   "metadata": {},
   "source": [
    "---\n",
    "## &#128721; STOP\n",
    "**Pause to commit your changes to your Git repository! (1 points)**\n",
    "\n",
    "Take a moment to save your notebook, commit the changes to your Git repository using the commit message \"**Committing Part 3**\", no need to push the changes to GitHub yet, but you can if you want."
   ]
  },
  {
   "cell_type": "markdown",
   "metadata": {},
   "source": [
    "---\n",
    "## Assignment wrap-up\n",
    "\n",
    "Please fill out the form that appears when you run the code below.  **You must completely fill this out in order to receive credit for the assignment!**"
   ]
  },
  {
   "cell_type": "code",
   "execution_count": 22,
   "metadata": {},
   "outputs": [
    {
     "data": {
      "text/html": [
       "\n",
       "<iframe \n",
       "\tsrc=\"https://forms.office.com/r/mB0YjLYvAA\" \n",
       "\twidth=\"800px\" \n",
       "\theight=\"600px\" \n",
       "\tframeborder=\"0\" \n",
       "\tmarginheight=\"0\" \n",
       "\tmarginwidth=\"0\">\n",
       "\tLoading...\n",
       "</iframe>\n"
      ],
      "text/plain": [
       "<IPython.core.display.HTML object>"
      ]
     },
     "execution_count": 22,
     "metadata": {},
     "output_type": "execute_result"
    }
   ],
   "source": [
    "from IPython.display import HTML\n",
    "HTML(\n",
    "\"\"\"\n",
    "<iframe \n",
    "\tsrc=\"https://forms.office.com/r/mB0YjLYvAA\" \n",
    "\twidth=\"800px\" \n",
    "\theight=\"600px\" \n",
    "\tframeborder=\"0\" \n",
    "\tmarginheight=\"0\" \n",
    "\tmarginwidth=\"0\">\n",
    "\tLoading...\n",
    "</iframe>\n",
    "\"\"\"\n",
    ")"
   ]
  },
  {
   "cell_type": "markdown",
   "metadata": {},
   "source": [
    "### Congratulations, you're done!\n",
    "\n",
    "If you like, you can upload this file to D2L for a record. Nevertheless, **we will grade the copy on GitHub**. \n"
   ]
  },
  {
   "cell_type": "markdown",
   "metadata": {},
   "source": [
    "&#169; Copyright 2025,  Department of Computational Mathematics, Science and Engineering at Michigan State University"
   ]
  }
 ],
 "metadata": {
  "kernelspec": {
   "display_name": "Python 3.11 (default)",
   "language": "python",
   "name": "python3"
  },
  "language_info": {
   "codemirror_mode": {
    "name": "ipython",
    "version": 3
   },
   "file_extension": ".py",
   "mimetype": "text/x-python",
   "name": "python",
   "nbconvert_exporter": "python",
   "pygments_lexer": "ipython3",
   "version": "3.11.11"
  }
 },
 "nbformat": 4,
 "nbformat_minor": 4
}
